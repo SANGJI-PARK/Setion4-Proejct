{
  "nbformat": 4,
  "nbformat_minor": 0,
  "metadata": {
    "colab": {
      "name": "Project_section4_version2.ipynb",
      "provenance": [],
      "collapsed_sections": []
    },
    "kernelspec": {
      "name": "python3",
      "display_name": "Python 3"
    },
    "language_info": {
      "name": "python"
    }
  },
  "cells": [
    {
      "cell_type": "markdown",
      "metadata": {
        "id": "EE504rQDqLbr"
      },
      "source": [
        "# Section4 Project\n",
        "### AI 02 박상지\n",
        "---"
      ]
    },
    {
      "cell_type": "markdown",
      "metadata": {
        "id": "dIcyfpqdqdoT"
      },
      "source": [
        "## **Project Description**\n",
        "\n",
        "* 데이터 \n",
        "  * 비소세포폐암 환자와 정상 환자의 가슴 CT 촬영 이미지\n",
        "  * 비소세포폐암 : 폐암의 큰 종류 중 하나. 폐암의 대부분을 차지하고 있다.\n",
        "\n",
        "<br>\n",
        "\n",
        "* 데이터 구조 : train, validation, test 데이터가 각각 **4개**의 클래스를 가지고 있음\n",
        "\n",
        "* 클래스\n",
        "  * **normal** : 정상 \n",
        "  \n",
        "   <img src='https://drive.google.com/uc?id=1AdU6HiIwdgfVjwNmtCHecQb7fahVTeAG' width=\"200\"/>\n",
        "  * **adenocarcinoma of lung(폐선암)** : 폐 말초 부위에서 잘 생기고 여성이나 담배를 피우지 않는 사람도 걸리며, 최근 들어 **발생 빈도가 늘고 있다.**\n",
        "\n",
        "   <img src='https://drive.google.com/uc?id=11sNRJ2dOPzILlmD7ExtSM9fJbRqhU0_g' width=\"200\"/>\n",
        "  * **squamous cell carcinoma of lung(편평상피암)** : 주로 폐 중심부에서 발견되며, 남성에게 많이 나타나고 흡연과 관련이 많다. 예후가 좋지 않은 암으로 알려져 있다.\n",
        "\n",
        "   <img src='https://drive.google.com/uc?id=1-3IH-tWtOP2hUGCfL4x8QJiFRi9ZPlIO' width=\"200\"/>\n",
        "  * **large cell carcinoma(대세포 폐암)** : 폐 표면 근처에서 주로 발생하며 암세포가 매우 크고 그 일부는 **빠르게 전이**하는 경향이 있어서 다른 비소세포폐암들보다 예후가 나쁜 편이다.\n",
        "\n",
        "   <img src='https://drive.google.com/uc?id=107ZTakRkG75Dr6xmWieOYhRZK5HAvWlt' width=\"200\"/>\n",
        "<br>\n",
        "\n",
        "* 모델 목적\n",
        "  * 폐암 환자 중에서도 특히 폐암의 대부분을 차지하고 있는 **비소세포폐암** 환자들의 구체적인 병명(폐암의 종류) 확진하고 **최대한 빠른 치료와 조치**를 위함.\n",
        "  * 특히, **빠르게 전이하는** 대세포 폐암 환자를 찾아내어 치료를 신속히 진행할 수 있는 것에 큰 의미가 있음\n",
        "\n",
        "<br>\n",
        "\n",
        "* 분석 모델 : **CNN(Convolutional Neural Network)**\n",
        "  * 본 분석에서는 이미지 데이터를 사용하기 때문에 이미지 공간의 유실을 최소화 할 수 있으며 특징 추출 및 학습이 효율적인 CNN 모델 사용\n",
        "  * 각 레이어의 입출력 데이터 형상을 유지하며 인접 이미지와의 특징을 효과적으로 인식\n",
        "  * 추출한 이미지의 특징을 모으고 강화하는 Pooling layer\n",
        "  * 필터 공유로 인하여 일반 인공 신경망보다 학습 파라미터가 적기 때문에 효율적인 분석 진행 가능"
      ]
    },
    {
      "cell_type": "markdown",
      "metadata": {
        "id": "ggHzUMD_Q7zt"
      },
      "source": [
        "#### 데이터 불러오기"
      ]
    },
    {
      "cell_type": "code",
      "metadata": {
        "colab": {
          "base_uri": "https://localhost:8080/"
        },
        "cellView": "form",
        "collapsed": true,
        "id": "-A-g4MA9nyAJ",
        "outputId": "ae59d8ef-cdb5-4202-9814-75779ced780f"
      },
      "source": [
        "#@title\n",
        "from google.colab import drive\n",
        "drive.mount('/content/drive')"
      ],
      "execution_count": 1,
      "outputs": [
        {
          "output_type": "stream",
          "text": [
            "Mounted at /content/drive\n"
          ],
          "name": "stdout"
        }
      ]
    },
    {
      "cell_type": "code",
      "metadata": {
        "cellView": "form",
        "id": "46Vp56SFvueN"
      },
      "source": [
        "#@title\n",
        "import numpy as np\n",
        "import random\n",
        "import tensorflow as tf\n",
        "import keras_preprocessing\n",
        "from keras_preprocessing import image\n",
        "from keras_preprocessing.image import ImageDataGenerator\n",
        "import matplotlib.pyplot as plt"
      ],
      "execution_count": 7,
      "outputs": []
    },
    {
      "cell_type": "markdown",
      "metadata": {
        "id": "3KCBHFb7Q-MD"
      },
      "source": [
        "#### 시드 고정"
      ]
    },
    {
      "cell_type": "code",
      "metadata": {
        "cellView": "form",
        "id": "xElkSLSkvvPN"
      },
      "source": [
        "#@title\n",
        "# 시드 고정\n",
        "class config:\n",
        "    seed = 42\n",
        "    device = \"cuda:0\"    \n",
        "        \n",
        "    lr = 1e-3\n",
        "    epochs = 30\n",
        "    batch_size = 32\n",
        "    epochs_kf = 10\n",
        "\n",
        "def seed_everything(seed: int = 42):\n",
        "    random.seed(seed)\n",
        "    np.random.seed(seed)\n",
        "    tf.random.set_seed\n",
        "\n",
        "seed_everything(config.seed)"
      ],
      "execution_count": 27,
      "outputs": []
    },
    {
      "cell_type": "markdown",
      "metadata": {
        "id": "V26Y4R5cJMh4"
      },
      "source": [
        "#### **ImageDataGenerator를 사용하여 데이터 전처리 및 증강**"
      ]
    },
    {
      "cell_type": "code",
      "metadata": {
        "colab": {
          "base_uri": "https://localhost:8080/"
        },
        "id": "ydhaQ99Gnifn",
        "outputId": "573d4fee-6e3f-447d-f1ed-1f1d791b1cac"
      },
      "source": [
        "# Training Data\n",
        "TRAINING_DIR = \"/content/drive/MyDrive/Study/LungCancer/train\"\n",
        "training_datagen = ImageDataGenerator(rescale = 1./255, # 이미지 크기 조정 (정규화)\n",
        "                                   validation_split = 0.2,  \n",
        "                                   rotation_range=5, # 0도와 5도 사이의 랜덤한 각도로 회전\n",
        "                                   width_shift_range=0.2, # 수평으로 랜덤 이동\n",
        "                                   height_shift_range=0.2, # 수직으로 랜덤 이동\n",
        "                                   shear_range=0.2, # 시계 반대 방향으로 변형\n",
        "                                   zoom_range=0.2, # 확대/축소\n",
        "                                   horizontal_flip=True, # 수평으로 뒤집기\n",
        "                                   fill_mode='nearest') # 생성되는 빈 공간을 가장 가까운 색으로 채우기\n",
        "\n",
        "train_generator = training_datagen.flow_from_directory(\n",
        "    TRAINING_DIR,\n",
        "    target_size=(224,224),\n",
        "    class_mode='categorical', # 다중 클래스\n",
        "    batch_size = 64\n",
        ")\n",
        "\n",
        "# Validation Data\n",
        "VALIDATION_DIR = \"/content/drive/MyDrive/Study/LungCancer/valid\"\n",
        "validation_datagen = ImageDataGenerator(rescale = 1./255)\n",
        "\n",
        "validation_generator = validation_datagen.flow_from_directory(\n",
        "    VALIDATION_DIR,\n",
        "    target_size=(224,224),\n",
        "    class_mode='categorical',\n",
        "    batch_size= 64\n",
        ")\n",
        "\n",
        "# Test Data\n",
        "TEST_DIR = \"/content/drive/MyDrive/Study/LungCancer/test\"\n",
        "test_datagen  = ImageDataGenerator(rescale = 1./255)\n",
        "\n",
        "test_generator = test_datagen.flow_from_directory(\n",
        "    TEST_DIR,\n",
        "    target_size=(224,224),\n",
        "    class_mode='categorical',\n",
        "    batch_size= 64\n",
        ")"
      ],
      "execution_count": 11,
      "outputs": [
        {
          "output_type": "stream",
          "text": [
            "Found 613 images belonging to 4 classes.\n",
            "Found 72 images belonging to 4 classes.\n",
            "Found 315 images belonging to 4 classes.\n"
          ],
          "name": "stdout"
        }
      ]
    },
    {
      "cell_type": "markdown",
      "metadata": {
        "id": "qP_OI0Hvswtr"
      },
      "source": [
        "#### **모델 생성**\n",
        "\n",
        "* 4개의 은닉층\n",
        "  - Convolution layer, Maxpooling layer\n",
        "  - 활성화 함수 : relu\n",
        "\n",
        "* 출력층\n",
        "  - 활성화 함수 : softmax\n",
        "\n",
        "* Compile\n",
        "  - loss 함수 : categorical_crossentropy\n",
        "  - optimizer : Adam"
      ]
    },
    {
      "cell_type": "code",
      "metadata": {
        "id": "FKp7NuRMoG-2"
      },
      "source": [
        "from tensorflow.keras.optimizers import Adam\n",
        "model = tf.keras.models.Sequential([\n",
        "    tf.keras.layers.Conv2D(16, (3,3), activation='relu'),\n",
        "    tf.keras.layers.MaxPooling2D(2,2),\n",
        "    tf.keras.layers.Conv2D(32, (3,3), activation='relu'),\n",
        "    tf.keras.layers.MaxPooling2D(2,2),\n",
        "    tf.keras.layers.Conv2D(64, (3,3), activation='relu'),\n",
        "    tf.keras.layers.MaxPooling2D(2,2),\n",
        "    tf.keras.layers.Flatten(),\n",
        "    tf.keras.layers.Dense(1024, activation='relu'),\n",
        "    tf.keras.layers.Dense(4, activation='softmax')\n",
        "])\n",
        "model.compile(loss='categorical_crossentropy',\n",
        "    optimizer= Adam(learning_rate=config.lr),\n",
        "    metrics=['acc'])"
      ],
      "execution_count": 21,
      "outputs": []
    },
    {
      "cell_type": "markdown",
      "metadata": {
        "id": "dRP7hrTERfxb"
      },
      "source": [
        "#### **모델 학습**"
      ]
    },
    {
      "cell_type": "code",
      "metadata": {
        "colab": {
          "base_uri": "https://localhost:8080/"
        },
        "id": "YyzqnGiZoNNE",
        "outputId": "98b115c5-7ed8-497d-c25c-93a28f6937ce"
      },
      "source": [
        "from tensorflow.keras.callbacks import EarlyStopping\n",
        "\n",
        "history = model.fit(\n",
        "    train_generator,\n",
        "    validation_data = validation_generator,\n",
        "    epochs = config.epochs, #30\n",
        "    batch_size = config.batch_size,#32\n",
        "    verbose = 1,\n",
        "    callbacks=EarlyStopping(monitor='val_loss', verbose=1, patience=5)\n",
        ")"
      ],
      "execution_count": 22,
      "outputs": [
        {
          "output_type": "stream",
          "text": [
            "Epoch 1/30\n",
            "10/10 [==============================] - 42s 4s/step - loss: 4.5360 - acc: 0.2512 - val_loss: 1.3968 - val_acc: 0.1806\n",
            "Epoch 2/30\n",
            "10/10 [==============================] - 40s 4s/step - loss: 1.3361 - acc: 0.2871 - val_loss: 1.4325 - val_acc: 0.1806\n",
            "Epoch 3/30\n",
            "10/10 [==============================] - 40s 4s/step - loss: 1.2887 - acc: 0.3507 - val_loss: 1.3339 - val_acc: 0.2500\n",
            "Epoch 4/30\n",
            "10/10 [==============================] - 40s 4s/step - loss: 1.1673 - acc: 0.4633 - val_loss: 1.2430 - val_acc: 0.4722\n",
            "Epoch 5/30\n",
            "10/10 [==============================] - 39s 4s/step - loss: 1.0751 - acc: 0.5351 - val_loss: 1.1334 - val_acc: 0.4861\n",
            "Epoch 6/30\n",
            "10/10 [==============================] - 39s 4s/step - loss: 1.0413 - acc: 0.5090 - val_loss: 1.1106 - val_acc: 0.4861\n",
            "Epoch 7/30\n",
            "10/10 [==============================] - 40s 4s/step - loss: 1.0697 - acc: 0.5171 - val_loss: 1.3208 - val_acc: 0.3472\n",
            "Epoch 8/30\n",
            "10/10 [==============================] - 40s 4s/step - loss: 1.0214 - acc: 0.5481 - val_loss: 1.1504 - val_acc: 0.4722\n",
            "Epoch 9/30\n",
            "10/10 [==============================] - 40s 4s/step - loss: 0.9926 - acc: 0.5481 - val_loss: 0.9972 - val_acc: 0.5417\n",
            "Epoch 10/30\n",
            "10/10 [==============================] - 40s 4s/step - loss: 0.9296 - acc: 0.5661 - val_loss: 0.9321 - val_acc: 0.5417\n",
            "Epoch 11/30\n",
            "10/10 [==============================] - 40s 4s/step - loss: 0.9039 - acc: 0.5938 - val_loss: 0.8528 - val_acc: 0.6250\n",
            "Epoch 12/30\n",
            "10/10 [==============================] - 40s 4s/step - loss: 0.8907 - acc: 0.5971 - val_loss: 0.9652 - val_acc: 0.5833\n",
            "Epoch 13/30\n",
            "10/10 [==============================] - 40s 4s/step - loss: 0.8823 - acc: 0.5938 - val_loss: 0.8605 - val_acc: 0.6806\n",
            "Epoch 14/30\n",
            "10/10 [==============================] - 40s 4s/step - loss: 0.8735 - acc: 0.6003 - val_loss: 0.8457 - val_acc: 0.6250\n",
            "Epoch 15/30\n",
            "10/10 [==============================] - 40s 4s/step - loss: 0.8390 - acc: 0.6476 - val_loss: 0.9126 - val_acc: 0.6111\n",
            "Epoch 16/30\n",
            "10/10 [==============================] - 40s 4s/step - loss: 0.7967 - acc: 0.6183 - val_loss: 0.8803 - val_acc: 0.6528\n",
            "Epoch 17/30\n",
            "10/10 [==============================] - 39s 4s/step - loss: 0.7855 - acc: 0.6493 - val_loss: 0.8888 - val_acc: 0.5556\n",
            "Epoch 18/30\n",
            "10/10 [==============================] - 40s 4s/step - loss: 0.7787 - acc: 0.6607 - val_loss: 0.8273 - val_acc: 0.6667\n",
            "Epoch 19/30\n",
            "10/10 [==============================] - 40s 4s/step - loss: 0.7717 - acc: 0.6493 - val_loss: 0.8477 - val_acc: 0.6806\n",
            "Epoch 20/30\n",
            "10/10 [==============================] - 40s 4s/step - loss: 0.7496 - acc: 0.6509 - val_loss: 0.7967 - val_acc: 0.6667\n",
            "Epoch 21/30\n",
            "10/10 [==============================] - 40s 4s/step - loss: 0.7770 - acc: 0.6427 - val_loss: 0.7940 - val_acc: 0.6806\n",
            "Epoch 22/30\n",
            "10/10 [==============================] - 40s 4s/step - loss: 0.7317 - acc: 0.6884 - val_loss: 0.7858 - val_acc: 0.6667\n",
            "Epoch 23/30\n",
            "10/10 [==============================] - 41s 4s/step - loss: 0.7368 - acc: 0.6754 - val_loss: 0.7812 - val_acc: 0.6944\n",
            "Epoch 24/30\n",
            "10/10 [==============================] - 40s 4s/step - loss: 0.7134 - acc: 0.6639 - val_loss: 0.7661 - val_acc: 0.6944\n",
            "Epoch 25/30\n",
            "10/10 [==============================] - 40s 4s/step - loss: 0.7099 - acc: 0.6672 - val_loss: 0.7650 - val_acc: 0.7361\n",
            "Epoch 26/30\n",
            "10/10 [==============================] - 40s 4s/step - loss: 0.6629 - acc: 0.7178 - val_loss: 0.7866 - val_acc: 0.6250\n",
            "Epoch 27/30\n",
            "10/10 [==============================] - 40s 4s/step - loss: 0.6394 - acc: 0.7031 - val_loss: 0.8995 - val_acc: 0.6250\n",
            "Epoch 28/30\n",
            "10/10 [==============================] - 40s 4s/step - loss: 0.7195 - acc: 0.6852 - val_loss: 0.7936 - val_acc: 0.6528\n",
            "Epoch 29/30\n",
            "10/10 [==============================] - 40s 4s/step - loss: 0.6718 - acc: 0.7015 - val_loss: 0.8132 - val_acc: 0.6667\n",
            "Epoch 30/30\n",
            "10/10 [==============================] - 40s 4s/step - loss: 0.6564 - acc: 0.6982 - val_loss: 0.7236 - val_acc: 0.6806\n"
          ],
          "name": "stdout"
        }
      ]
    },
    {
      "cell_type": "code",
      "metadata": {
        "colab": {
          "base_uri": "https://localhost:8080/"
        },
        "id": "MZYeHZPMvWKf",
        "outputId": "e045b50f-7f92-484d-ad50-728b59fa8c04"
      },
      "source": [
        "model.evaluate(test_generator, verbose=1) #metrics 변경해보기"
      ],
      "execution_count": 24,
      "outputs": [
        {
          "output_type": "stream",
          "text": [
            "5/5 [==============================] - 95s 23s/step - loss: 1.7946 - acc: 0.4159\n"
          ],
          "name": "stdout"
        },
        {
          "output_type": "execute_result",
          "data": {
            "text/plain": [
              "[1.794556975364685, 0.4158730208873749]"
            ]
          },
          "metadata": {
            "tags": []
          },
          "execution_count": 24
        }
      ]
    },
    {
      "cell_type": "markdown",
      "metadata": {
        "id": "DeCTy8UJN5Oe"
      },
      "source": [
        "---\n",
        "* 검증데이터 정확도 : 68.06%\n",
        "* 테스트 데이터 정확도 : 41.59%\n",
        "---"
      ]
    },
    {
      "cell_type": "markdown",
      "metadata": {
        "id": "4w8_I_BEx4HH"
      },
      "source": [
        "#### **교차검증 : K-fold (5-fold)**"
      ]
    },
    {
      "cell_type": "code",
      "metadata": {
        "colab": {
          "base_uri": "https://localhost:8080/"
        },
        "cellView": "form",
        "id": "Bbr02spA0hxy",
        "outputId": "371e90e9-ebb3-439f-b3f0-3e21e1464695"
      },
      "source": [
        "#@title\n",
        "# Lad Whole Data\n",
        "DATA_DIR = \"/content/drive/MyDrive/Study/LungCancer\"\n",
        "df_datagen  = ImageDataGenerator(rescale = 1./255)\n",
        "df_generator = df_datagen.flow_from_directory(\n",
        "    DATA_DIR,\n",
        "    target_size=(224,224),\n",
        "    class_mode='categorical',\n",
        "    batch_size= 64\n",
        ")"
      ],
      "execution_count": 26,
      "outputs": [
        {
          "output_type": "stream",
          "text": [
            "Found 1000 images belonging to 3 classes.\n"
          ],
          "name": "stdout"
        }
      ]
    },
    {
      "cell_type": "code",
      "metadata": {
        "colab": {
          "base_uri": "https://localhost:8080/"
        },
        "cellView": "form",
        "id": "NXu_4R14x8Xu",
        "outputId": "4d39cd64-c3cb-41d7-a275-4ed6b23247e6"
      },
      "source": [
        "#@title\n",
        "from sklearn.model_selection import KFold\n",
        "\n",
        "kf = KFold(n_splits = 5, shuffle = True)\n",
        "\n",
        "for trian, test in kf.split(df_generator) :\n",
        "  TRAINING_DIR = \"/content/drive/MyDrive/Study/LungCancer/train\"\n",
        "  training_datagen = ImageDataGenerator(rescale = 1./255,\n",
        "                                   validation_split = 0.2,  \n",
        "                                   rotation_range=5, \n",
        "                                   width_shift_range=0.2,\n",
        "                                   height_shift_range=0.2, \n",
        "                                   shear_range=0.2, \n",
        "                                   zoom_range=0.2, \n",
        "                                   horizontal_flip=True, \n",
        "                                   fill_mode='nearest')\n",
        "\n",
        "  # Validation Data\n",
        "  VALIDATION_DIR = \"/content/drive/MyDrive/Study/LungCancer/valid\"\n",
        "  validation_datagen = ImageDataGenerator(rescale = 1./255)\n",
        "  train_generator = training_datagen.flow_from_directory(\n",
        "      TRAINING_DIR,\n",
        "      target_size=(224,224),\n",
        "      class_mode='categorical', # 다중 클래스\n",
        "      batch_size = 64\n",
        "  )\n",
        "  validation_generator = validation_datagen.flow_from_directory(\n",
        "      VALIDATION_DIR,\n",
        "      target_size=(224,224),\n",
        "      class_mode='categorical',\n",
        "      batch_size= 64\n",
        "  )\n",
        "\n",
        "  # Test Data\n",
        "  TEST_DIR = \"/content/drive/MyDrive/Study/LungCancer/test\"\n",
        "  test_datagen  = ImageDataGenerator(rescale = 1./255)\n",
        "  test_generator = test_datagen.flow_from_directory(\n",
        "      TEST_DIR,\n",
        "      target_size=(224,224),\n",
        "      class_mode='categorical',\n",
        "      batch_size= 64\n",
        "  ) \n",
        "    \n",
        "  model_kf = tf.keras.models.Sequential([\n",
        "    tf.keras.layers.Conv2D(16, (3,3), activation='relu'),\n",
        "    tf.keras.layers.MaxPooling2D(2,2),\n",
        "    tf.keras.layers.Conv2D(32, (3,3), activation='relu'),\n",
        "    tf.keras.layers.MaxPooling2D(2,2),\n",
        "    tf.keras.layers.Conv2D(64, (3,3), activation='relu'),\n",
        "    tf.keras.layers.MaxPooling2D(2,2),\n",
        "    tf.keras.layers.Flatten(),\n",
        "    tf.keras.layers.Dense(1024, activation='relu'),\n",
        "    tf.keras.layers.Dense(4, activation='softmax')\n",
        "    ])\n",
        "\n",
        "  model.compile(loss='categorical_crossentropy',\n",
        "       optimizer= Adam(learning_rate=config.lr),\n",
        "       metrics=['acc'])\n",
        "  \n",
        "  model.fit(train_generator,\n",
        "    validation_data = validation_generator,\n",
        "    epochs = config.epochs_kf,\n",
        "    batch_size = config.batch_size,\n",
        "    verbose = 1,\n",
        "    callbacks=EarlyStopping(monitor='val_loss', verbose=1, patience=5))"
      ],
      "execution_count": 34,
      "outputs": [
        {
          "output_type": "stream",
          "text": [
            "Found 613 images belonging to 4 classes.\n",
            "Found 72 images belonging to 4 classes.\n",
            "Found 315 images belonging to 4 classes.\n",
            "Epoch 1/10\n",
            "10/10 [==============================] - 42s 4s/step - loss: 0.7650 - acc: 0.6721 - val_loss: 0.8462 - val_acc: 0.6944\n",
            "Epoch 2/10\n",
            "10/10 [==============================] - 40s 4s/step - loss: 0.7028 - acc: 0.6900 - val_loss: 0.7694 - val_acc: 0.6667\n",
            "Epoch 3/10\n",
            "10/10 [==============================] - 40s 4s/step - loss: 0.6193 - acc: 0.7292 - val_loss: 0.7840 - val_acc: 0.6806\n",
            "Epoch 4/10\n",
            "10/10 [==============================] - 40s 4s/step - loss: 0.6251 - acc: 0.7031 - val_loss: 0.7653 - val_acc: 0.6806\n",
            "Epoch 5/10\n",
            "10/10 [==============================] - 40s 4s/step - loss: 0.6473 - acc: 0.7129 - val_loss: 0.8810 - val_acc: 0.5694\n",
            "Epoch 6/10\n",
            "10/10 [==============================] - 40s 4s/step - loss: 0.6008 - acc: 0.7308 - val_loss: 0.7539 - val_acc: 0.7083\n",
            "Epoch 7/10\n",
            "10/10 [==============================] - 40s 4s/step - loss: 0.6325 - acc: 0.7129 - val_loss: 0.8656 - val_acc: 0.6250\n",
            "Epoch 8/10\n",
            "10/10 [==============================] - 40s 4s/step - loss: 0.6206 - acc: 0.7259 - val_loss: 0.8318 - val_acc: 0.6528\n",
            "Epoch 9/10\n",
            "10/10 [==============================] - 40s 4s/step - loss: 0.5599 - acc: 0.7618 - val_loss: 0.7685 - val_acc: 0.7361\n",
            "Epoch 10/10\n",
            "10/10 [==============================] - 40s 4s/step - loss: 0.6349 - acc: 0.7488 - val_loss: 0.7848 - val_acc: 0.6528\n",
            "Found 613 images belonging to 4 classes.\n",
            "Found 72 images belonging to 4 classes.\n",
            "Found 315 images belonging to 4 classes.\n",
            "Epoch 1/10\n",
            "10/10 [==============================] - 41s 4s/step - loss: 0.6138 - acc: 0.7537 - val_loss: 0.8628 - val_acc: 0.6528\n",
            "Epoch 2/10\n",
            "10/10 [==============================] - 40s 4s/step - loss: 0.5869 - acc: 0.7553 - val_loss: 0.9140 - val_acc: 0.6389\n",
            "Epoch 3/10\n",
            "10/10 [==============================] - 40s 4s/step - loss: 0.6056 - acc: 0.7292 - val_loss: 0.8880 - val_acc: 0.6250\n",
            "Epoch 4/10\n",
            "10/10 [==============================] - 40s 4s/step - loss: 0.5816 - acc: 0.7569 - val_loss: 0.8289 - val_acc: 0.6528\n",
            "Epoch 5/10\n",
            "10/10 [==============================] - 40s 4s/step - loss: 0.5179 - acc: 0.7684 - val_loss: 0.8403 - val_acc: 0.6806\n",
            "Epoch 6/10\n",
            "10/10 [==============================] - 40s 4s/step - loss: 0.5915 - acc: 0.7553 - val_loss: 0.8572 - val_acc: 0.6667\n",
            "Epoch 7/10\n",
            "10/10 [==============================] - 40s 4s/step - loss: 0.5543 - acc: 0.7847 - val_loss: 0.9477 - val_acc: 0.6667\n",
            "Epoch 8/10\n",
            "10/10 [==============================] - 40s 4s/step - loss: 0.5323 - acc: 0.7700 - val_loss: 0.8221 - val_acc: 0.7361\n",
            "Epoch 9/10\n",
            "10/10 [==============================] - 40s 4s/step - loss: 0.5366 - acc: 0.7765 - val_loss: 0.7290 - val_acc: 0.7361\n",
            "Epoch 10/10\n",
            "10/10 [==============================] - 40s 4s/step - loss: 0.5814 - acc: 0.7716 - val_loss: 0.8824 - val_acc: 0.6667\n",
            "Found 613 images belonging to 4 classes.\n",
            "Found 72 images belonging to 4 classes.\n",
            "Found 315 images belonging to 4 classes.\n",
            "Epoch 1/10\n",
            "10/10 [==============================] - 41s 4s/step - loss: 0.5855 - acc: 0.7423 - val_loss: 0.8187 - val_acc: 0.6806\n",
            "Epoch 2/10\n",
            "10/10 [==============================] - 40s 4s/step - loss: 0.5386 - acc: 0.7830 - val_loss: 0.8905 - val_acc: 0.7222\n",
            "Epoch 3/10\n",
            "10/10 [==============================] - 40s 4s/step - loss: 0.5723 - acc: 0.7374 - val_loss: 0.8983 - val_acc: 0.6528\n",
            "Epoch 4/10\n",
            "10/10 [==============================] - 40s 4s/step - loss: 0.5469 - acc: 0.7732 - val_loss: 0.8080 - val_acc: 0.7222\n",
            "Epoch 5/10\n",
            "10/10 [==============================] - 40s 4s/step - loss: 0.4950 - acc: 0.7896 - val_loss: 0.9633 - val_acc: 0.6944\n",
            "Epoch 6/10\n",
            "10/10 [==============================] - 40s 4s/step - loss: 0.4830 - acc: 0.7749 - val_loss: 1.0044 - val_acc: 0.6944\n",
            "Epoch 7/10\n",
            "10/10 [==============================] - 40s 4s/step - loss: 0.4813 - acc: 0.7961 - val_loss: 0.8607 - val_acc: 0.6944\n",
            "Epoch 8/10\n",
            "10/10 [==============================] - 40s 4s/step - loss: 0.4769 - acc: 0.7961 - val_loss: 0.8262 - val_acc: 0.6806\n",
            "Epoch 9/10\n",
            "10/10 [==============================] - 40s 4s/step - loss: 0.5462 - acc: 0.7553 - val_loss: 1.0687 - val_acc: 0.6528\n",
            "Epoch 00009: early stopping\n",
            "Found 613 images belonging to 4 classes.\n",
            "Found 72 images belonging to 4 classes.\n",
            "Found 315 images belonging to 4 classes.\n",
            "Epoch 1/10\n",
            "10/10 [==============================] - 41s 4s/step - loss: 0.5863 - acc: 0.7488 - val_loss: 0.9563 - val_acc: 0.6667\n",
            "Epoch 2/10\n",
            "10/10 [==============================] - 40s 4s/step - loss: 0.4957 - acc: 0.7847 - val_loss: 0.9631 - val_acc: 0.6806\n",
            "Epoch 3/10\n",
            "10/10 [==============================] - 40s 4s/step - loss: 0.5313 - acc: 0.7781 - val_loss: 0.8741 - val_acc: 0.6667\n",
            "Epoch 4/10\n",
            "10/10 [==============================] - 40s 4s/step - loss: 0.5228 - acc: 0.7765 - val_loss: 0.8381 - val_acc: 0.6806\n",
            "Epoch 5/10\n",
            "10/10 [==============================] - 40s 4s/step - loss: 0.4849 - acc: 0.7977 - val_loss: 0.8634 - val_acc: 0.7500\n",
            "Epoch 6/10\n",
            "10/10 [==============================] - 40s 4s/step - loss: 0.4606 - acc: 0.8124 - val_loss: 0.8896 - val_acc: 0.6944\n",
            "Epoch 7/10\n",
            "10/10 [==============================] - 40s 4s/step - loss: 0.4584 - acc: 0.8157 - val_loss: 0.8721 - val_acc: 0.7083\n",
            "Epoch 8/10\n",
            "10/10 [==============================] - 40s 4s/step - loss: 0.5145 - acc: 0.7830 - val_loss: 0.9499 - val_acc: 0.6667\n",
            "Epoch 9/10\n",
            "10/10 [==============================] - 40s 4s/step - loss: 0.5187 - acc: 0.7749 - val_loss: 1.0941 - val_acc: 0.5972\n",
            "Epoch 00009: early stopping\n",
            "Found 613 images belonging to 4 classes.\n",
            "Found 72 images belonging to 4 classes.\n",
            "Found 315 images belonging to 4 classes.\n",
            "Epoch 1/10\n",
            "10/10 [==============================] - 41s 4s/step - loss: 0.4984 - acc: 0.7830 - val_loss: 0.8477 - val_acc: 0.6667\n",
            "Epoch 2/10\n",
            "10/10 [==============================] - 40s 4s/step - loss: 0.4977 - acc: 0.7781 - val_loss: 1.2626 - val_acc: 0.5972\n",
            "Epoch 3/10\n",
            "10/10 [==============================] - 40s 4s/step - loss: 0.4598 - acc: 0.8222 - val_loss: 0.9766 - val_acc: 0.6806\n",
            "Epoch 4/10\n",
            "10/10 [==============================] - 40s 4s/step - loss: 0.4398 - acc: 0.7993 - val_loss: 0.8992 - val_acc: 0.7083\n",
            "Epoch 5/10\n",
            "10/10 [==============================] - 40s 4s/step - loss: 0.4658 - acc: 0.7928 - val_loss: 0.9440 - val_acc: 0.7083\n",
            "Epoch 6/10\n",
            "10/10 [==============================] - 40s 4s/step - loss: 0.4481 - acc: 0.8091 - val_loss: 1.0251 - val_acc: 0.6250\n",
            "Epoch 00006: early stopping\n"
          ],
          "name": "stdout"
        }
      ]
    },
    {
      "cell_type": "code",
      "metadata": {
        "colab": {
          "base_uri": "https://localhost:8080/"
        },
        "id": "Hc3sSrcq5Ga6",
        "outputId": "0c2d45a5-a38e-453d-eae8-7427e15ef986"
      },
      "source": [
        "# Accuracy after doing Cross Validation(5-fold)\n",
        "\n",
        "model.evaluate(test_generator, verbose=1)"
      ],
      "execution_count": 35,
      "outputs": [
        {
          "output_type": "stream",
          "text": [
            "5/5 [==============================] - 6s 1s/step - loss: 1.4532 - acc: 0.5556\n"
          ],
          "name": "stdout"
        },
        {
          "output_type": "execute_result",
          "data": {
            "text/plain": [
              "[1.453237533569336, 0.5555555820465088]"
            ]
          },
          "metadata": {
            "tags": []
          },
          "execution_count": 35
        }
      ]
    },
    {
      "cell_type": "markdown",
      "metadata": {
        "id": "k9y-OPO5ATEJ"
      },
      "source": [
        "\n",
        "---\n",
        "\n",
        "검증 데이터 정확도 : 59.72%\n",
        "\n",
        "테스트 데이터 정확도 : 55.56% (약 14% 증가)\n",
        "\n",
        "---\n",
        "\n"
      ]
    },
    {
      "cell_type": "code",
      "metadata": {
        "colab": {
          "base_uri": "https://localhost:8080/",
          "height": 370
        },
        "cellView": "form",
        "id": "wiQ50ozlvh4A",
        "outputId": "e79e3e53-c311-4c72-ec40-6e77f7f3eeb9"
      },
      "source": [
        "#@title\n",
        "def Train_Val_Plot(acc,val_acc,loss,val_loss):\n",
        "\n",
        "    fig, (ax1, ax2) = plt.subplots(1,2, figsize= (20,5))\n",
        "    fig.suptitle(\" MODEL'S METRICS VISUALIZATION \")\n",
        "\n",
        "    ax1.plot(range(1, len(acc) + 1), acc)\n",
        "    ax1.plot(range(1, len(val_acc) + 1), val_acc)\n",
        "    ax1.set_title('History of Accuracy')\n",
        "    ax1.set_xlabel('Epochs')\n",
        "    ax1.set_ylabel('Accuracy')\n",
        "    ax1.legend(['training', 'validation'])\n",
        "\n",
        "\n",
        "    ax2.plot(range(1, len(loss) + 1), loss)\n",
        "    ax2.plot(range(1, len(val_loss) + 1), val_loss)\n",
        "    ax2.set_title('History of Loss')\n",
        "    ax2.set_xlabel('Epochs')\n",
        "    ax2.set_ylabel('Loss')\n",
        "    ax2.legend(['training', 'validation'])\n",
        "\n",
        "    plt.show()\n",
        "    \n",
        "\n",
        "Train_Val_Plot(history.history['acc'],history.history['val_acc'],\n",
        "               history.history['loss'],history.history['val_loss'],\n",
        "              )"
      ],
      "execution_count": 37,
      "outputs": [
        {
          "output_type": "display_data",
          "data": {
            "image/png": "[encoded data removed]",
            "text/plain": [
              "<Figure size 1440x360 with 2 Axes>"
            ]
          },
          "metadata": {
            "tags": [],
            "needs_background": "light"
          }
        }
      ]
    },
    {
      "cell_type": "markdown",
      "metadata": {
        "id": "JJpjICgRA2l_"
      },
      "source": [
        "---\n",
        "\n",
        "모델이 학습되면서 오차가 줄어드는 동시에 정확도가 점점 증가하는 것을 볼 수 있다\n",
        "\n",
        "---"
      ]
    },
    {
      "cell_type": "markdown",
      "metadata": {
        "id": "N8AHrt9JOkdd"
      },
      "source": [
        "## 결과\n",
        "\n",
        "* CrossValidation(5-fold)를 통해서 최종적으로 55.56%의 정확도를 보이는 대소세포폐암 분류 모델을 생성하였다.\n",
        "* 정확도를 크게 높이지는 못했지만 추후 여러 보정을 통하여 더욱 최적화할 수 있는 가능성이 있다.\n",
        "* 모델 활용 방안\n",
        " * 폐암 환자인지 확인\n",
        " * 그리고 폐암 중에서도 정확이 어떤 종류의 폐암을 가지고 있는지 확인\n",
        " * 암 종류에 따른 정확하고 빠른 치료를 시행"
      ]
    }
  ]
}